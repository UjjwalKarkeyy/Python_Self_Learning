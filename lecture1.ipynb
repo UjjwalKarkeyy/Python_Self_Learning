{
 "cells": [
  {
   "cell_type": "markdown",
   "metadata": {},
   "source": [
    "# <center><b>Lecture 1 On Python Programming</b></center>\n"
   ]
  },
  {
   "cell_type": "markdown",
   "metadata": {},
   "source": [
    "### ``Introduction to Python``\n",
    "Rules of Identifiers\n",
    "- Identifiers are names of maybe the variables, functions, etc.\n",
    "- Identifiers can be combination of uppercase and lowercase letters, digits, or an underscore(_). So myVariable, variable_1, variable_for_print all are valid python identifiers.\n",
    "- An identifier can not start with digit. So while variable1 is valid, 1variable is not valid\n",
    "- We can't use special symbols like !, #, %, @, etc in our identifier\n",
    "- Identifier can be of any length.\n"
   ]
  },
  {
   "cell_type": "markdown",
   "metadata": {},
   "source": [
    "### Operators\n",
    "- '/' operator returns a float no matter the numbers being divided"
   ]
  },
  {
   "cell_type": "code",
   "execution_count": 2,
   "metadata": {},
   "outputs": [
    {
     "name": "stdout",
     "output_type": "stream",
     "text": [
      "2.0\n",
      "2.5\n"
     ]
    }
   ],
   "source": [
    "a = 4\n",
    "b = 2\n",
    "c = 5\n",
    "print(a/b)\n",
    "print(c/b)"
   ]
  },
  {
   "cell_type": "markdown",
   "metadata": {},
   "source": [
    "# <center><b>Lecture 2 On Python Programming</b></center>\n"
   ]
  },
  {
   "cell_type": "markdown",
   "metadata": {},
   "source": [
    "### Indexing\n",
    "- We can't change a string's value using indexing. To understand this try running the code below:"
   ]
  },
  {
   "cell_type": "code",
   "execution_count": 3,
   "metadata": {},
   "outputs": [
    {
     "ename": "TypeError",
     "evalue": "'str' object does not support item assignment",
     "output_type": "error",
     "traceback": [
      "\u001b[0;31m---------------------------------------------------------------------------\u001b[0m",
      "\u001b[0;31mTypeError\u001b[0m                                 Traceback (most recent call last)",
      "Cell \u001b[0;32mIn[3], line 2\u001b[0m\n\u001b[1;32m      1\u001b[0m val \u001b[38;5;241m=\u001b[39m \u001b[38;5;124m\"\u001b[39m\u001b[38;5;124mUjjwal\u001b[39m\u001b[38;5;124m\"\u001b[39m\n\u001b[0;32m----> 2\u001b[0m \u001b[43mval\u001b[49m\u001b[43m[\u001b[49m\u001b[38;5;241;43m2\u001b[39;49m\u001b[43m]\u001b[49m \u001b[38;5;241m=\u001b[39m \u001b[38;5;124m\"\u001b[39m\u001b[38;5;124mu\u001b[39m\u001b[38;5;124m\"\u001b[39m\n\u001b[1;32m      3\u001b[0m \u001b[38;5;28mprint\u001b[39m(val)\n",
      "\u001b[0;31mTypeError\u001b[0m: 'str' object does not support item assignment"
     ]
    }
   ],
   "source": [
    "val = \"Ujjwal\"\n",
    "val[2] = \"u\"\n",
    "print(val)"
   ]
  },
  {
   "cell_type": "markdown",
   "metadata": {},
   "source": [
    "### String functions\n",
    "- endswith\n",
    "- capitalize: No changes to the original value\n",
    "- replace\n",
    "- find: Returns the index of any first finding. We can also provide a whole string to the find function.\n",
    "- count"
   ]
  },
  {
   "cell_type": "code",
   "execution_count": 6,
   "metadata": {},
   "outputs": [
    {
     "name": "stdout",
     "output_type": "stream",
     "text": [
      "True\n",
      "I a am a coder\n",
      "i u um u coder\n",
      "4\n",
      "1\n"
     ]
    }
   ],
   "source": [
    "str = \"i a am a coder\"\n",
    "\n",
    "print(str.endswith(\"er\"))\n",
    "print(str.capitalize())\n",
    "print(str.replace('a','u'))\n",
    "print(str.find('am'))\n",
    "print(str.count('o'))"
   ]
  },
  {
   "cell_type": "markdown",
   "metadata": {},
   "source": [
    "# <center><b>Lecture 3 On Python Programming</b></center>\n"
   ]
  },
  {
   "cell_type": "markdown",
   "metadata": {},
   "source": [
    "### ``List and Tuples``\n",
    "- Strings are immuatable as even showed in the example above. But list are mutable i.e., they can be changed.\n",
    "- As string slicing is possible, list slicing is also possible"
   ]
  },
  {
   "cell_type": "markdown",
   "metadata": {},
   "source": [
    "#### Some list methods: []\n",
    "- append: adds one element at the end\n",
    "- sort: sorts in ascending order. This returns none so we can't just print this. We have to first use the sort method and then print the list.\n",
    "- sort(reverse= True): sorts in descending order\n",
    "- reverse: reverses the list. This also returns none.\n",
    "- insert: insert element at provided index e.g., list.insert(indx, val)\n",
    "- remove: removes the first occurence of element e.g., remove(val)\n",
    "- pop(indx): removes element at indx"
   ]
  },
  {
   "cell_type": "markdown",
   "metadata": {},
   "source": [
    "### ``Tuple``: ()\n",
    "- Built-in data type that lets use cerate immutable sequences of values.\n",
    "- To make a single value tuple, we have to use a comma at the end e.g., run the code below\n",
    "- Tuple slicing is possible"
   ]
  },
  {
   "cell_type": "markdown",
   "metadata": {},
   "source": [
    "#### Tuple methods:\n",
    "- index(val): returns index of first occurence\n",
    "- count(val): counts total occurences"
   ]
  },
  {
   "cell_type": "code",
   "execution_count": 2,
   "metadata": {},
   "outputs": [
    {
     "name": "stdout",
     "output_type": "stream",
     "text": [
      "<class 'int'>\n",
      "<class 'tuple'>\n"
     ]
    }
   ],
   "source": [
    "tup = (2)\n",
    "print(type(tup)) # Returns int as python ignores the paranthese and treats tup as an int variable\n",
    "\n",
    "tupl = (2,)\n",
    "print(type(tupl)) # Returns tuple as type due to the comma\n"
   ]
  },
  {
   "cell_type": "markdown",
   "metadata": {},
   "source": [
    "### WAP to ask the user to enter names of 3 movies and store them in a list\n",
    "\n",
    "#### WAP to check if a list contains a palindrome of elements."
   ]
  },
  {
   "cell_type": "code",
   "execution_count": 14,
   "metadata": {},
   "outputs": [
    {
     "name": "stdout",
     "output_type": "stream",
     "text": [
      "Enter three of you favourite movie names: \n",
      "Movie  1:Movie  2:Movie  3:['jk', '', '']\n"
     ]
    }
   ],
   "source": [
    "print(\"Enter three of you favourite movie names: \")\n",
    "count = 1\n",
    "movies = []\n",
    "\n",
    "while(count < 4):\n",
    "    print(\"Movie \",count, end=\":\")\n",
    "    name = input(\" \")\n",
    "    movies.append(name)\n",
    "    count += 1\n",
    "\n",
    "print(movies)\n",
    "\n",
    "    "
   ]
  },
  {
   "cell_type": "markdown",
   "metadata": {},
   "source": [
    "\n",
    "#### WAP to check if a list contains a palindrome of elements."
   ]
  },
  {
   "cell_type": "code",
   "execution_count": 9,
   "metadata": {},
   "outputs": [
    {
     "name": "stdout",
     "output_type": "stream",
     "text": [
      "List is palindrome!\n"
     ]
    }
   ],
   "source": [
    "pal_list = [1,2,2,1]\n",
    "rev_list = pal_list.copy()\n",
    "pal_list.reverse()\n",
    "if(pal_list == rev_list):\n",
    "    print(\"List is palindrome!\")\n",
    "\n",
    "else:\n",
    "    print(\"List is not palindrome!\")\n"
   ]
  },
  {
   "cell_type": "markdown",
   "metadata": {},
   "source": [
    "# <center><b>Lecture 4 On Python Programming</b></center>\n",
    "\n"
   ]
  },
  {
   "cell_type": "markdown",
   "metadata": {},
   "source": [
    "### ``Dictionary and Set in Python``"
   ]
  }
 ],
 "metadata": {
  "kernelspec": {
   "display_name": "Python 3",
   "language": "python",
   "name": "python3"
  },
  "language_info": {
   "codemirror_mode": {
    "name": "ipython",
    "version": 3
   },
   "file_extension": ".py",
   "mimetype": "text/x-python",
   "name": "python",
   "nbconvert_exporter": "python",
   "pygments_lexer": "ipython3",
   "version": "3.10.12"
  }
 },
 "nbformat": 4,
 "nbformat_minor": 2
}
